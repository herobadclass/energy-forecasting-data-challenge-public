{
 "cells": [
  {
   "cell_type": "code",
   "execution_count": 1,
   "metadata": {},
   "outputs": [],
   "source": [
    "# https://www.kaggle.com/competitions/energy-forecasting-data-challenge-public\n",
    "import numpy as np\n",
    "import pandas as pd\n",
    "from sklearn.ensemble import RandomForestRegressor"
   ]
  },
  {
   "cell_type": "code",
   "execution_count": 2,
   "metadata": {},
   "outputs": [],
   "source": [
    "train = pd.read_csv('train.csv')\n",
    "\n",
    "train['time'] = pd.to_datetime(train['time'])\n",
    "train['month'] = train['time'].dt.month.astype('category')\n",
    "train['dayofweek'] = train['time'].dt.dayofweek.astype('category')\n",
    "train['hour'] = train['time'].dt.hour.astype('category')\n",
    "\n",
    "X_train = train.filter(items=['Gb(i)', 'Gd(i)', 'H_sun', 'T2m', 'WS10m', 'dataset_id', 'month', 'dayofweek', 'hour'])\n",
    "y_train = train.filter(items=['P', 'load', 'residual_load'])"
   ]
  },
  {
   "cell_type": "code",
   "execution_count": 3,
   "metadata": {},
   "outputs": [],
   "source": [
    "test = pd.read_csv('test.csv')\n",
    "\n",
    "test['time'] = pd.to_datetime(test['time'])\n",
    "test['month'] = test['time'].dt.month.astype('category')\n",
    "test['dayofweek'] = test['time'].dt.dayofweek.astype('category')\n",
    "test['hour'] = test['time'].dt.hour.astype('category')\n",
    "\n",
    "X_test = test.drop('time', axis=1)"
   ]
  },
  {
   "cell_type": "code",
   "execution_count": 4,
   "metadata": {},
   "outputs": [],
   "source": [
    "rf = RandomForestRegressor(n_estimators = 150, max_features = 'sqrt')\n",
    "rf.fit(X_train, y_train['residual_load'])\n",
    "y_pred = rf.predict(X_test)"
   ]
  },
  {
   "cell_type": "code",
   "execution_count": 5,
   "metadata": {},
   "outputs": [],
   "source": [
    "submission = pd.DataFrame({'time': test['time'],\n",
    "                           'residual_load': y_pred})\n",
    "submission.to_csv('submission.csv', index=False)"
   ]
  }
 ],
 "metadata": {
  "kernelspec": {
   "display_name": "minimal_datascience",
   "language": "python",
   "name": "python3"
  },
  "language_info": {
   "codemirror_mode": {
    "name": "ipython",
    "version": 3
   },
   "file_extension": ".py",
   "mimetype": "text/x-python",
   "name": "python",
   "nbconvert_exporter": "python",
   "pygments_lexer": "ipython3",
   "version": "3.10.1"
  },
  "orig_nbformat": 4
 },
 "nbformat": 4,
 "nbformat_minor": 2
}
